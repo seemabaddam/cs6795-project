{
 "cells": [
  {
   "cell_type": "code",
   "execution_count": 1059,
   "id": "13ff5f67",
   "metadata": {},
   "outputs": [
    {
     "data": {
      "text/plain": [
       "(array([[1., 0., 0., 0.],\n",
       "        [0., 1., 0., 0.],\n",
       "        [0., 0., 1., 0.],\n",
       "        [0., 0., 0., 1.]]),\n",
       " array([[0. , 0.4, 0.4, 0.2],\n",
       "        [0.4, 0. , 0.4, 0.2],\n",
       "        [0.4, 0.4, 0. , 0.2],\n",
       "        [0.4, 0.4, 0.2, 0. ]]))"
      ]
     },
     "execution_count": 1059,
     "metadata": {},
     "output_type": "execute_result"
    }
   ],
   "source": [
    "import numpy as np\n",
    "import numpy.random as npr\n",
    "import matplotlib.pyplot as plt\n",
    "\n",
    "# generate transitions\n",
    "\n",
    "#  these are fixed\n",
    "transitions_0 = np.eye(4)\n",
    "transitions_1 = np.zeros([4,4])\n",
    "transitions_1[:,-1] = 0.2\n",
    "transitions_1[-1,-1] = 0\n",
    "\n",
    "#  these are the ones we want to learn\n",
    "indices = np.array([[0,1],\n",
    "                  [0,2],\n",
    "                  [1,0],\n",
    "                  [1,2],\n",
    "                  [2,0],\n",
    "                  [2,1],\n",
    "                  [3,0],\n",
    "                  [3,1]])\n",
    "\n",
    "\n",
    "transitions_1[indices[:,0],indices[:,1]] = 0.4\n",
    "transitions_1[3,2] = 0.2\n",
    "transitions_1\n",
    "\n",
    "transitions = {0: transitions_0,\n",
    "               1: transitions_1}\n",
    "\n",
    "transitions[0], transitions[1]"
   ]
  },
  {
   "cell_type": "code",
   "execution_count": 1049,
   "id": "0c8be08a",
   "metadata": {},
   "outputs": [],
   "source": [
    "def print_progress(states):\n",
    "    for i in states.keys():\n",
    "        print(i, states[i].progress, states[i].completed)\n",
    "        \n",
    "def get_active_states(states, return_ix=False):\n",
    "    d = {}\n",
    "    for s in states.keys():\n",
    "        if not states[s].completed:\n",
    "            d[s] =   states[s]\n",
    "    if return_ix:\n",
    "        return np.array(list(d.keys()))\n",
    "    return d\n",
    "\n",
    "\n",
    "#  Basic reward function\n",
    "class Reward:\n",
    "    def __init__(self, states, streaks, streak_length, streak_reward, So_p_reward=0.9):\n",
    "        self.streaks = streaks\n",
    "        self.streak_length = streak_length\n",
    "        self.last_streak_init = 0\n",
    "        self.states = states\n",
    "        self.streak_reward = streak_reward\n",
    "        self.So_p_reward = So_p_reward\n",
    "        \n",
    "    def __call__(self, current_state_ix, action_history, n_tasks_completed):\n",
    "        state = self.states[current_state_ix]\n",
    "        if action_history[-1]:\n",
    "            self.last_streak_init = len(action_history)\n",
    "            return -1\n",
    "\n",
    "        # if we stay, we might get a reward    \n",
    "        if state.state_length < 1000: # if we are in task state\n",
    "            if state.completed: # if task completed, get big money!\n",
    "                return 100**(n_tasks_completed) + state.state_length\n",
    "            else: \n",
    "                if self.streaks and (current_state_ix != 3):\n",
    "                    a = action_history[self.last_streak_init:self.last_streak_init+self.streak_length]\n",
    "                    if (np.sum(a) == 0) and len(a) == self.streak_length:\n",
    "                        self.last_streak_init = self.last_streak_init+self.streak_length\n",
    "                        return self.streak_reward\n",
    "                return -1\n",
    "        else: # if we are in other state\n",
    "            v = npr.binomial(1, self.So_p_reward) # return random reward\n",
    "#             return 2*(1-v) - v\n",
    "            return 2*(v) - (1-v)\n",
    "\n",
    "\n",
    "        \n",
    "        \n",
    "# def reward(state, action_history):\n",
    "#     # if we just switched, always penalize\n",
    "#     if action_history[-1]:\n",
    "#         return -1\n",
    "    \n",
    "#     # if we stay, we might get a reward    \n",
    "#     if state.state_length < 1000: # if we are in task state\n",
    "#         if state.completed: # if task completed, get big money!\n",
    "#             return 100**(self.n_tasks_completed) + state.state_length\n",
    "#         else: \n",
    "#             return -1\n",
    "#     else: # if we are in other state\n",
    "#         v = npr.binomial(1, 0.9) # return random reward\n",
    "#         return 2*(1-v) - v\n",
    "\n",
    "    \n",
    "\n"
   ]
  },
  {
   "cell_type": "code",
   "execution_count": 1050,
   "id": "1953719f",
   "metadata": {},
   "outputs": [],
   "source": [
    "\n",
    "\n",
    "class Task_Timer:\n",
    "    def __init__(self, states, on_break, max_decrement=30):\n",
    "        self.states = states\n",
    "        self.on_break = on_break\n",
    "        self.max_decrement = max_decrement\n",
    "        \n",
    "    def step(self, current_state_ix, action):\n",
    "        states = get_active_states(self.states)\n",
    "        states_ix = get_active_states(self.states, True)\n",
    "    \n",
    "        if action: # if we switched, decrement progress of all active states\n",
    "            for s in states.keys():\n",
    "                if states[s].n_decrement < self.max_decrement:\n",
    "                    if not self.on_break:\n",
    "                        states[s].progress = max(0, states[s].progress -1)\n",
    "                    states[s].n_decrement += 1\n",
    "                \n",
    "        else:\n",
    "            states[current_state_ix].progress += 1 # increment progress on current state\n",
    "            \n",
    "            if states[current_state_ix].progress >= states[current_state_ix].state_length-1: \n",
    "                states[current_state_ix].completed = True\n",
    "                \n",
    "            \n",
    "            s_ = np.setdiff1d(states_ix, current_state_ix)\n",
    "            for i in s_:\n",
    "                if states[i].n_decrement < self.max_decrement:\n",
    "                    if not self.on_break:\n",
    "                        states[i].progress = max(0, states[i].progress-1)\n",
    "                    states[i].n_decrement += 1\n",
    "                \n",
    "\n",
    "            \n",
    "            \n",
    "            \n",
    "        "
   ]
  },
  {
   "cell_type": "code",
   "execution_count": 1067,
   "id": "29377849",
   "metadata": {},
   "outputs": [],
   "source": [
    "import numpy.random as npr\n",
    "import numpy as np\n",
    "\n",
    "class State:\n",
    "    def __init__(self, state_length):\n",
    "        self.state_length = state_length\n",
    "        self.progress = 0\n",
    "        self.completed = False\n",
    "        self.n_decrement = 0\n",
    "\n",
    "class MDP:\n",
    "    def __init__(self, \n",
    "                 reward, \n",
    "                 task_timer, \n",
    "                 transitions, \n",
    "                 init_state=None, \n",
    "                 Break = False, \n",
    "                 break_length = 15,\n",
    "                 Streaks = True, \n",
    "                 streak_length = 10,\n",
    "                 streak_reward = 10,\n",
    "                 So_reward_p = 0.1):\n",
    "        '''\n",
    "        transitions: ()\n",
    "        init_state: (int)\n",
    "        '''\n",
    "        \n",
    "        # Time Horizon is 8 hours\n",
    "        self.T = 60*8 \n",
    "        \n",
    "        # init states\n",
    "        self.Ss = State(60)\n",
    "        self.Sm = State(120)\n",
    "        self.Sl = State(240)\n",
    "        self.So = State(10e9) # distracted\n",
    "        self.states = {0: self.Ss,\n",
    "                      1: self.Sm,\n",
    "                      2: self.Sl,\n",
    "                      3: self.So}\n",
    "        \n",
    "        \n",
    "        self.total_reward = 0\n",
    "        \n",
    "        if init_state is None:\n",
    "            self.current_state_ix = npr.choice(3) # only start in task state\n",
    "        else:\n",
    "            self.current_state_ix = init_state\n",
    "            \n",
    "        self.transitions = transitions\n",
    "        self.n_tasks_completed = 0\n",
    "        \n",
    "        \n",
    "        self.Break = Break\n",
    "        self.on_break = False\n",
    "        self.break_counter = 0\n",
    "        self.break_length = break_length\n",
    "        \n",
    "        self.task_timer = task_timer(self.states, self.on_break)\n",
    "        \n",
    "        \n",
    "        self.Streaks = Streaks\n",
    "        self.streak_length = streak_length\n",
    "        self.streak_reward = streak_reward\n",
    "        self.So_reward_p = So_reward_p\n",
    "\n",
    "        self.reward_fn = reward(self.states, \n",
    "                                self.Streaks, \n",
    "                                self.streak_length,\n",
    "                               self.streak_reward,\n",
    "                               self.So_reward_p)\n",
    "        \n",
    "        self.action_history = []\n",
    "    \n",
    "    def __call__(self, action):\n",
    "        '''Take a step \n",
    "        0 is stay\n",
    "        1 is transition'''\n",
    "        self.action_history.append(action)\n",
    "        if action:\n",
    "            if self.on_break:\n",
    "                self.on_break = False\n",
    "                self.task_timer.on_break = False\n",
    "            # get candidate transitions and probabilities\n",
    "            s = get_active_states(self.states, True)\n",
    "            self.transitions[1][self.current_state_ix,s] = normalize(self.transitions[1][self.current_state_ix,s])\n",
    "            p=self.transitions[1][self.current_state_ix, s]\n",
    "            \n",
    "            # reset n_decrement\n",
    "            self.states[self.current_state_ix].n_decrement = 0\n",
    "        \n",
    "            # randomly sample\n",
    "            self.current_state_ix = npr.choice(s, p=p)    \n",
    "        else:\n",
    "            if self.on_break and self.current_state_ix == 3:\n",
    "                self.break_counter += 1\n",
    "            \n",
    "                if self.break_counter >= self.break_length: \n",
    "                    # done with break\n",
    "                    s = get_active_states(self.states, True)\n",
    "                    self.transitions[1][self.current_state_ix,s] = normalize(self.transitions[1][self.current_state_ix,s])\n",
    "                    p=self.transitions[1][self.current_state_ix, s]\n",
    "                    self.current_state_ix = npr.choice(s, p=p)    \n",
    "                    self.on_break = False\n",
    "                    self.task_timer.on_break = False\n",
    "                    \n",
    "            pass\n",
    "        \n",
    "        self.task_timer.step(self.current_state_ix, action)          \n",
    "        r = self.reward_fn(self.current_state_ix, self.action_history, self.n_tasks_completed)\n",
    "        \n",
    "        # if we complete the task, sample a new task\n",
    "        if self.states[self.current_state_ix].completed:\n",
    "            s = get_active_states(self.states, True)\n",
    "            self.transitions[1][self.current_state_ix,s] = normalize(self.transitions[1][self.current_state_ix,s])\n",
    "            p = self.transitions[1][self.current_state_ix,s]\n",
    "            self.current_state_ix = npr.choice(s, p=p)\n",
    "            self.n_tasks_completed += 1\n",
    "            \n",
    "            if self.Break:\n",
    "                self.current_state_ix = 3\n",
    "                self.on_break = True\n",
    "                self.task_timer.on_break = True\n",
    "                self.break_counter = 0\n",
    "                \n",
    "            \n",
    "        self.total_reward += r\n",
    "        return self.current_state_ix, r\n",
    "    \n",
    "    def get_state_ix(self):\n",
    "        return self.current_state_ix\n",
    "    \n",
    "    def get_state(self):\n",
    "        return self.states[self.current_state_ix]\n",
    "\n",
    "\n",
    "        \n",
    "def normalize(p):\n",
    "    return p/p.sum()\n",
    "\n",
    "def fake_agent(s, r):\n",
    "    # random action\n",
    "    return npr.choice(2, p=[0.99, 0.01])\n",
    "\n",
    "\n",
    "\n",
    "\n",
    "\n",
    "\n",
    "mdp = MDP(Reward, \n",
    "          Task_Timer,  \n",
    "          transitions, \n",
    "          None, \n",
    "          Break=False, \n",
    "          Streaks=False)\n",
    "self = mdp\n",
    "    \n",
    "    \n",
    "\n",
    "    \n",
    "        \n",
    "        "
   ]
  },
  {
   "cell_type": "code",
   "execution_count": 1090,
   "id": "52c925d5",
   "metadata": {},
   "outputs": [
    {
     "name": "stdout",
     "output_type": "stream",
     "text": [
      "a:\t0\n",
      "0 59 True\n",
      "1 119 True\n",
      "2 54 False\n",
      "3 157 False\n",
      "None\n"
     ]
    }
   ],
   "source": [
    "#  simple episode\n",
    "prog = []\n",
    "actions = []\n",
    "states = []\n",
    "rewards = []\n",
    "on_break = []\n",
    "on_break2 = []\n",
    "time_horizon = 480\n",
    "\n",
    "# get initial state/ set reward to 0\n",
    "s0 = mdp.get_state_ix()\n",
    "r = 0\n",
    "for i in range(time_horizon):\n",
    "    a = fake_agent(s0, r)\n",
    "    s1, r = mdp(a)\n",
    "\n",
    "    # Q update\n",
    "    break\n",
    "    \n",
    "    s0 = s1\n",
    "\n",
    "    \n",
    "    p_ = [self.states[k].progress for k in range(4)]\n",
    "    \n",
    "    prog.append(p_)\n",
    "    actions.append(a)\n",
    "    states.append(self.current_state_ix)\n",
    "    rewards.append(r)\n",
    "    on_break.append(self.on_break)\n",
    "    on_break2.append(self.task_timer.on_break)\n",
    "    \n",
    "    \n",
    "    active_states = get_active_states(self.states,True)\n",
    "    if len(active_states) == 1:\n",
    "        break\n",
    "\n",
    "\n",
    "print(f'a:\\t{a}')\n",
    "print(print_progress(self.states))"
   ]
  },
  {
   "cell_type": "code",
   "execution_count": 1091,
   "id": "0ecf5e67",
   "metadata": {},
   "outputs": [
    {
     "ename": "IndexError",
     "evalue": "too many indices for array: array is 1-dimensional, but 2 were indexed",
     "output_type": "error",
     "traceback": [
      "\u001b[0;31m---------------------------------------------------------------------------\u001b[0m",
      "\u001b[0;31mIndexError\u001b[0m                                Traceback (most recent call last)",
      "Cell \u001b[0;32mIn[1091], line 8\u001b[0m\n\u001b[1;32m      6\u001b[0m axs[\u001b[38;5;241m1\u001b[39m]\u001b[38;5;241m.\u001b[39mplot(actions)\n\u001b[1;32m      7\u001b[0m axs[\u001b[38;5;241m1\u001b[39m]\u001b[38;5;241m.\u001b[39mset_ylabel(\u001b[38;5;124m'\u001b[39m\u001b[38;5;124mactions\u001b[39m\u001b[38;5;124m'\u001b[39m)\n\u001b[0;32m----> 8\u001b[0m axs[\u001b[38;5;241m2\u001b[39m]\u001b[38;5;241m.\u001b[39mplot(\u001b[43mnp\u001b[49m\u001b[38;5;241;43m.\u001b[39;49m\u001b[43marray\u001b[49m\u001b[43m(\u001b[49m\u001b[43mprog\u001b[49m\u001b[43m)\u001b[49m\u001b[43m[\u001b[49m\u001b[43m:\u001b[49m\u001b[43m,\u001b[49m\u001b[43m:\u001b[49m\u001b[38;5;241;43m-\u001b[39;49m\u001b[38;5;241;43m1\u001b[39;49m\u001b[43m]\u001b[49m)\n\u001b[1;32m      9\u001b[0m axs[\u001b[38;5;241m3\u001b[39m]\u001b[38;5;241m.\u001b[39mplot(np\u001b[38;5;241m.\u001b[39mcumsum(rewards))\n\u001b[1;32m     10\u001b[0m axs[\u001b[38;5;241m3\u001b[39m]\u001b[38;5;241m.\u001b[39mset_ylabel(\u001b[38;5;124m'\u001b[39m\u001b[38;5;124mtotal rewards\u001b[39m\u001b[38;5;124m'\u001b[39m)\n",
      "\u001b[0;31mIndexError\u001b[0m: too many indices for array: array is 1-dimensional, but 2 were indexed"
     ]
    },
    {
     "data": {
      "image/png": "[encoded data removed]",
      "text/plain": [
       "<Figure size 1000x700 with 5 Axes>"
      ]
     },
     "metadata": {},
     "output_type": "display_data"
    }
   ],
   "source": [
    "\n",
    "f, axs = plt.subplots(5,1, figsize=(10,7), sharex=True)\n",
    "\n",
    "\n",
    "axs[0].plot(states)\n",
    "axs[0].set_ylabel('states')\n",
    "axs[1].plot(actions)\n",
    "axs[1].set_ylabel('actions')\n",
    "axs[2].plot(np.array(prog)[:,:-1])\n",
    "axs[3].plot(np.cumsum(rewards))\n",
    "axs[3].set_ylabel('total rewards')\n",
    "axs[4].plot(on_break)\n",
    "axs[4].set_ylabel('on break')\n",
    "\n",
    "# axs[3].set_yscale('log')\n",
    "\n",
    "plt.show()"
   ]
  },
  {
   "cell_type": "code",
   "execution_count": 1109,
   "id": "e89f1bd1",
   "metadata": {},
   "outputs": [
    {
     "data": {
      "text/plain": [
       "array([[0.35512563, 0.64487437],\n",
       "       [0.02727031, 0.97272969],\n",
       "       [0.06249307, 0.93750693],\n",
       "       [1.25706354, 0.3166606 ]])"
      ]
     },
     "execution_count": 1109,
     "metadata": {},
     "output_type": "execute_result"
    }
   ],
   "source": [
    "# \n",
    "\n",
    "A = npr.randn(4, 2)\n",
    "\n",
    "\n",
    "Qp = A\n",
    "# Qp = np.exp(A)/np.exp(A).sum(1)[:,None] # softmax across rows \n",
    "\n",
    "\n",
    "A = npr.randn(4, 2)\n",
    "# Qn = np.exp(A)/np.exp(A).sum(1)[:,None]\n",
    "Qn = A\n",
    "Q"
   ]
  },
  {
   "cell_type": "code",
   "execution_count": 1104,
   "id": "b1f1a06c",
   "metadata": {},
   "outputs": [],
   "source": [
    "gamma = 0.9\n",
    "alpha = 0.1\n",
    "Q[s0, a] = Q[s0,a] + alpha *(r + gamma*np.max(Q[s1]) -  Q[s0,a]) \n",
    "\n",
    "\n"
   ]
  },
  {
   "cell_type": "code",
   "execution_count": 1107,
   "id": "27e0a92c",
   "metadata": {},
   "outputs": [
    {
     "data": {
      "text/plain": [
       "array([[0.35512563, 0.64487437],\n",
       "       [0.02727031, 0.97272969],\n",
       "       [0.06249307, 0.93750693],\n",
       "       [1.25706354, 0.3166606 ]])"
      ]
     },
     "execution_count": 1107,
     "metadata": {},
     "output_type": "execute_result"
    }
   ],
   "source": [
    "Q"
   ]
  },
  {
   "cell_type": "code",
   "execution_count": 1096,
   "id": "15de36a4",
   "metadata": {},
   "outputs": [
    {
     "data": {
      "text/plain": [
       "(3, 3, 2, 0)"
      ]
     },
     "execution_count": 1096,
     "metadata": {},
     "output_type": "execute_result"
    }
   ],
   "source": [
    "s0,s1, r, a\n"
   ]
  },
  {
   "cell_type": "code",
   "execution_count": 1099,
   "id": "5f2b6fff",
   "metadata": {},
   "outputs": [
    {
     "data": {
      "text/plain": [
       "0.5420283965219485"
      ]
     },
     "execution_count": 1099,
     "metadata": {},
     "output_type": "execute_result"
    }
   ],
   "source": []
  },
  {
   "cell_type": "code",
   "execution_count": 1098,
   "id": "9c48a29e",
   "metadata": {},
   "outputs": [
    {
     "data": {
      "text/plain": [
       "0.6888538314543846"
      ]
     },
     "execution_count": 1098,
     "metadata": {},
     "output_type": "execute_result"
    }
   ],
   "source": []
  },
  {
   "cell_type": "code",
   "execution_count": null,
   "id": "72f7806b",
   "metadata": {},
   "outputs": [],
   "source": []
  }
 ],
 "metadata": {
  "kernelspec": {
   "display_name": "Python 3 (ipykernel)",
   "language": "python",
   "name": "python3"
  },
  "language_info": {
   "codemirror_mode": {
    "name": "ipython",
    "version": 3
   },
   "file_extension": ".py",
   "mimetype": "text/x-python",
   "name": "python",
   "nbconvert_exporter": "python",
   "pygments_lexer": "ipython3",
   "version": "3.10.8"
  }
 },
 "nbformat": 4,
 "nbformat_minor": 5
}
